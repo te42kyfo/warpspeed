{
 "cells": [
  {
   "cell_type": "markdown",
   "metadata": {},
   "source": [
    "# Pystencils 2D Star Stencil Volume Comparison\n",
    "\n",
    "2D stencil with different block sizes"
   ]
  },
  {
   "cell_type": "code",
   "execution_count": null,
   "metadata": {},
   "outputs": [],
   "source": [
    "\n",
    "import sys \n",
    "sys.path.append('../pystencils')\n",
    "sys.path.append('../genpredict')\n",
    "\n",
    "%load_ext autoreload\n",
    "%autoreload 1\n",
    "%aimport pystencils.warpspeed.warpspeed\n",
    "%aimport predict\n",
    "%aimport griditeration\n",
    "%aimport volumes_isl\n",
    "%aimport pystencils.astnodes\n",
    "%aimport plot_utils\n",
    "\n"
   ]
  },
  {
   "cell_type": "code",
   "execution_count": null,
   "metadata": {},
   "outputs": [],
   "source": [
    "import cProfile\n",
    "import re\n",
    "\n",
    "\n",
    "import numpy as np\n",
    "import matplotlib.pyplot as plt\n",
    "import matplotlib\n",
    "import sys\n",
    "from subprocess import run, PIPE\n",
    "\n",
    "\n",
    "import pystencils as ps\n",
    "from pystencils.slicing import add_ghost_layers, make_slice, remove_ghost_layers\n",
    "from pystencils.warpspeed.warpspeed import PyStencilsWarpSpeedKernel, getFieldExprs, lambdifyExprs, simplifyExprs\n",
    "from griditeration import *\n",
    "from volumes_isl import *\n",
    "\n",
    "\n",
    "from plot_utils import *\n",
    "from meas_utils import *\n",
    "from pystencils_stencil_utils import PS3DStencil, PS2DStencil\n",
    "\n",
    "\n",
    "\n",
    "import sympy as sp\n",
    "\n",
    "import pycuda\n",
    "import pycuda.autoinit\n",
    "import pycuda.gpuarray as gpuarray\n",
    "import pycuda.driver as drv\n",
    "\n",
    "import timeit\n"
   ]
  },
  {
   "cell_type": "code",
   "execution_count": null,
   "metadata": {},
   "outputs": [],
   "source": [
    "domain_size = (1000, 1000)\n",
    "SS = PS2DStencil(domain_size, 1)"
   ]
  },
  {
   "cell_type": "code",
   "execution_count": null,
   "metadata": {},
   "outputs": [],
   "source": [
    "print(SS.getStarAssignments(1)[0])\n",
    "ps.show_code(SS.getStarKernel((32, 4), 1))\n",
    "print(SS.getStarKernel((32,4), 1).ast)\n",
    "wsKernel = PyStencilsWarpSpeedKernel(SS.getStarKernel((32, 4), 1).ast)\n",
    "\n",
    "    \n",
    "printSASS(\"#define FUNC_PREFIX __global__\\n#define RESTRICT const __restrict__\\n\" + str(ps.get_code_obj(SS.getStarKernel((32, 4), 1))))"
   ]
  },
  {
   "cell_type": "code",
   "execution_count": null,
   "metadata": {},
   "outputs": [],
   "source": [
    "predValues = dict()\n",
    "measValues = dict()\n",
    "kernelCache = dict()\n",
    "wsKernelCache = dict()"
   ]
  },
  {
   "cell_type": "code",
   "execution_count": null,
   "metadata": {},
   "outputs": [],
   "source": [
    "xticks = []\n",
    "xtickLabels = []\n",
    "xtickCounter = 0\n",
    "\n",
    "print()\n",
    "print( \"                      mem     mem      L2      L2\")\n",
    "print( \"                     load   store    load   store       L1\")\n",
    "print()\n",
    "\n",
    "\n",
    "for r in [1]:\n",
    "    for xblock in [1,2, 4, 8, 16, 32,128, 256, 512, 1024]:\n",
    "        for yblock in [1, 2, 4, 8, 16, 32,64,128, 256, 512, 1024]:\n",
    "            zblock = 1\n",
    "            if xblock*yblock*zblock not in [256, 512]:\n",
    "                continue\n",
    "            block = (xblock, yblock, zblock)\n",
    "            key = (r, *block)\n",
    "            \n",
    "            if key in kernelCache:\n",
    "                kernel = kernelCache[key]\n",
    "            else:                \n",
    "                kernel = SS.getStarKernel(block[:2], r)            \n",
    "                kernelCache[key] = kernel\n",
    "            if key in wsKernelCache:\n",
    "                wsKernel = wsKernelCache[key]\n",
    "            else:\n",
    "                wsKernel = PyStencilsWarpSpeedKernel(kernel.ast)     \n",
    "                wsKernelCache[key] = wsKernel\n",
    "            runFunc = SS.getRunFunc(kernel)\n",
    "                \n",
    "            print(str(kernel.num_regs)  + \" Registers\")\n",
    "\n",
    "            \n",
    "            grid = ( *tuple(SS.size[i] // block[i] +1 for i in range(2)), 1)\n",
    "\n",
    "            print(\"block:\" + str(block))\n",
    "            wsKernel.registers = kernel.num_regs\n",
    "            predV = getVolumes(wsKernel, block, grid, (1, 1, 0, *SS.size, 1))\n",
    " \n",
    "            \n",
    "            if key in measValues:\n",
    "                measV = measValues[key]\n",
    "            else:\n",
    "                measV = measureMetrics(runFunc, SS.size)\n",
    "            \n",
    "            print(\"r={}  {:12}   {:5.2f}   {:5.2f}   {:5.2f}   {:5.2f}\".format(r, str(block), measV[\"memLoad\"], measV[\"memStore\"], measV[\"L2Load\"], measV[\"L2Store\"] ))\n",
    "            print(\"            {:5.2f} / {:4.2f}   {:5.2f}   {:5.2f}   {:5.2f}   {:6.1f}\".format(predV[\"memLoad\"], predV[\"memLoadISL\"], predV[\"memStore\"], predV[\"L2Load\"], predV[\"L2Store\"], predV[\"L1cycles\"]))\n",
    "\n",
    "            print()\n",
    "\n",
    "            predValues[key] = predV\n",
    "            measValues[key] = measV     "
   ]
  },
  {
   "cell_type": "code",
   "execution_count": null,
   "metadata": {},
   "outputs": [],
   "source": [
    "for key in predValues.keys():\n",
    "    r, xblock, yblock, zblock = key\n",
    "    \n",
    "    block = (xblock, yblock, zblock)\n",
    "\n",
    "    results = predValues[key]\n",
    "\n",
    "\n",
    "    threadsPerBlock = xblock*yblock*zblock\n",
    "    concurrentBlocks = min(32, 1024 // threadsPerBlock) * 80\n",
    "    vMemComplete = results[\"memLoadISL\"] * concurrentBlocks * threadsPerBlock\n",
    "    sizeL2 = 6 * 1024 * 1024\n",
    "\n",
    "    vMemStore = results[\"memStore\"] * concurrentBlocks * threadsPerBlock\n",
    "    vL2Store = results[\"L2Store\"] * concurrentBlocks * threadsPerBlock\n",
    "    vL2Load = results[\"L2Load\"] * concurrentBlocks * threadsPerBlock\n",
    "\n",
    "    vMem = vMemComplete\n",
    "\n",
    "\n",
    "\n",
    "    vStoreEvicted = 0\n",
    "    if vMemStore > 0:\n",
    "        effectiveL2 = sizeL2*0.3\n",
    "        effectiveL2 *= vMemStore / (vMemStore + vMemComplete)\n",
    "        effectiveL2 *= vMemComplete / (vMemComplete + vMemStore)\n",
    "        vStoreEvicted = (vL2Store - vMemStore) * max(0, (vMemStore - effectiveL2)) / vMemStore\n",
    "\n",
    "    results[\"memStoreExt\"] = ( vMemStore + vStoreEvicted) / concurrentBlocks / threadsPerBlock\n",
    "\n",
    "    \n",
    "    vMemEvicted = 0\n",
    "    if vMemStore > 0:\n",
    "        vMemEvicted += vStoreEvicted #(vL2Store - vMemStore) * max(0, (vMemStore - sizeL2 * (vMemStore / (vMemStore + vMemComplete))  * min( 1,  (block[0] * concurrentBlocks) / 2000)  )) / vMemStore           \n",
    "        #vMemEvicted += (vL2Load - vMemComplete)\n",
    "    #if vMemComplete > 0:\n",
    "    #    effectiveL2 = sizeL2\n",
    "    #    effectiveL2 *= vMemComplete / (vMemComplete + vMemStore)\n",
    "    #    effectiveL2 *= max(0.2, min( 1,  (block[0] * concurrentBlocks) / domain_size[0]))\n",
    "    #    vMemEvicted += (vL2Load - vMemComplete) * 0.1*max(0, (vMemComplete / effectiveL2))\n",
    "\n",
    "\n",
    "    results[\"memLoadISLext\"] = (vMem + vMemEvicted) / concurrentBlocks / threadsPerBlock\n",
    "    #print(results[\"memLoadISLext\"])\n",
    "\n",
    "    results[\"memTotal\"] = results[\"memLoadISLext\"] + results[\"memStoreExt\"]\n",
    "    #print(vL2Load / 80 / 1024)\n",
    "    #print( ((measValues[key][\"memLoad\"] * threadsPerBlock*concurrentBlocks) - vMemComplete) / (vL2Load - vMemComplete) )"
   ]
  },
  {
   "cell_type": "code",
   "execution_count": null,
   "metadata": {},
   "outputs": [],
   "source": [
    "volumeScatterPlot({key: v[\"memLoad\"] for key, v in measValues.items()}, {key: v[\"memLoad\"] for key, v in predValues.items()}, \"2D Memory Load Volumes\")\n",
    "volumeScatterPlot({key: v[\"memLoad\"] for key, v in measValues.items()}, {key: v[\"memLoadISL\"] for key, v in predValues.items()}, \"2D Memory Load Volumes ISL\")\n",
    "volumeScatterPlot({key: v[\"memLoad\"] for key, v in measValues.items()}, {key: v[\"memLoadISLext\"] for key, v in predValues.items()}, \"2D Memory Load Volumes ISL Ext\")"
   ]
  },
  {
   "cell_type": "code",
   "execution_count": null,
   "metadata": {},
   "outputs": [],
   "source": [
    "volumeScatterPlot({key: v[\"L2Load\"] for key, v in measValues.items()}, {key: v[\"L2Load\"] for key, v in predValues.items()}, \"2D L2 Load Volumes\")"
   ]
  },
  {
   "cell_type": "code",
   "execution_count": null,
   "metadata": {},
   "outputs": [],
   "source": [
    "volumeScatterPlot({key: v[\"memStore\"] for key, v in measValues.items()}, {key: v[\"memStore\"] for key, v in predValues.items()}, \"Memory Store Volumes\")"
   ]
  },
  {
   "cell_type": "code",
   "execution_count": null,
   "metadata": {},
   "outputs": [],
   "source": [
    "volumeScatterPlot({key: v[\"memStore\"] for key, v in measValues.items()}, {key: v[\"memStoreExt\"] for key, v in predValues.items()}, \"Memory Store Volumes Ext\")"
   ]
  },
  {
   "cell_type": "code",
   "execution_count": null,
   "metadata": {},
   "outputs": [],
   "source": [
    "volumeScatterPlot({key: v[\"L2Store\"] for key, v in measValues.items()}, {key: v[\"L2Store\"] for key, v in predValues.items()}, \"L2 Store Volumes\")"
   ]
  },
  {
   "cell_type": "code",
   "execution_count": null,
   "metadata": {},
   "outputs": [],
   "source": []
  },
  {
   "cell_type": "code",
   "execution_count": null,
   "metadata": {},
   "outputs": [],
   "source": []
  },
  {
   "cell_type": "code",
   "execution_count": null,
   "metadata": {},
   "outputs": [],
   "source": []
  }
 ],
 "metadata": {
  "kernelspec": {
   "display_name": "Python 3",
   "language": "python",
   "name": "python3"
  },
  "language_info": {
   "codemirror_mode": {
    "name": "ipython",
    "version": 3
   },
   "file_extension": ".py",
   "mimetype": "text/x-python",
   "name": "python",
   "nbconvert_exporter": "python",
   "pygments_lexer": "ipython3",
   "version": "3.9.1"
  }
 },
 "nbformat": 4,
 "nbformat_minor": 4
}
