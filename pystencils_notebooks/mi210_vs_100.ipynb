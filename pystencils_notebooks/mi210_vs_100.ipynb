{
 "cells": [
  {
   "cell_type": "markdown",
   "metadata": {},
   "source": [
    "# Pystencils 3D Star Stencil Volume Comparison - AMD Version\n",
    "\n",
    "3D7pt stencil with different block sizes"
   ]
  },
  {
   "cell_type": "code",
   "execution_count": null,
   "metadata": {},
   "outputs": [],
   "source": [
    "from IPython.display import display, HTML\n",
    "display(HTML(\"<style>.container { width:90% !important; }</style>\"))\n",
    "\n",
    "import sys \n",
    "sys.path.append('../../pystencils')\n",
    "sys.path.append('../pystencils')\n",
    "sys.path.append('../measutils')\n",
    "sys.path.append('../warpspeed')\n",
    "\n",
    "\n",
    "%load_ext autoreload\n",
    "%autoreload 1\n",
    "\n",
    "%aimport predict\n",
    "%aimport griditeration\n",
    "%aimport volumes_isl\n",
    "%aimport pystencils.astnodes\n",
    "%aimport plot_utils\n",
    "%aimport predict_metrics\n",
    "\n"
   ]
  },
  {
   "cell_type": "code",
   "execution_count": null,
   "metadata": {},
   "outputs": [],
   "source": [
    "import cProfile\n",
    "import re\n",
    "\n",
    "\n",
    "import numpy as np\n",
    "import matplotlib.pyplot as plt\n",
    "import matplotlib\n",
    "import sys\n",
    "from subprocess import run, PIPE\n",
    "\n",
    "\n",
    "import pystencils as ps\n",
    "from pystencils.slicing import add_ghost_layers, make_slice, remove_ghost_layers\n",
    "from pystencils.display_utils import show_code, get_code_str\n",
    "from griditeration import *\n",
    "from predict_metrics import *\n",
    "from volumes_isl import *\n",
    "from plot_utils import *\n",
    "from measured_metrics import MeasuredMetrics, ResultComparer\n",
    "\n",
    "from pystencils_stencil_utils import getStencilKernel\n",
    "from pystencilswarpspeedkernel import PyStencilsWarpSpeedKernel\n",
    "\n",
    "\n",
    "import sympy as sp\n",
    "\n",
    "\n",
    "import timeit\n",
    "\n",
    "from meas_db import MeasDB"
   ]
  },
  {
   "cell_type": "code",
   "execution_count": null,
   "metadata": {},
   "outputs": [],
   "source": [
    "meas_db_amd = MeasDB(\"3dstencils2_AMD.db\")\n",
    "meas_db_nv = MeasDB(\"3dstencils2.db\")\n",
    "#meas_db.clearDB()"
   ]
  },
  {
   "cell_type": "code",
   "execution_count": null,
   "metadata": {},
   "outputs": [],
   "source": [
    "mi210Values = dict()\n",
    "a100Values = dict()\n",
    "\n",
    "def getBlockSizes(threadCounts):\n",
    "    blockSizes = []\n",
    "    for xblock in [ 8, 16, 32, 64, 128, 256, 512, 1024]:\n",
    "        for yblock in [1, 2, 4, 8, 16, 32, 64, 128, 256, 512]:\n",
    "            for zblock in [1, 2, 4, 8, 16, 32, 64]:\n",
    "                if xblock*yblock*zblock in threadCounts:\n",
    "                    blockSizes.append((xblock, yblock, zblock))\n",
    "    return blockSizes\n",
    "\n",
    "for fieldSize in [(640, 512,200), (1024, 512, 200), (1023, 512, 200)]:\n",
    "    for r in [0]:\n",
    "        for blockingFactors in [(1,1,1)]: #, (1,8,1), (2,2,2)]:\n",
    "            for blockSize in getBlockSizes([1024]):\n",
    "                t1 = time.process_time()\n",
    "\n",
    "                key = (r, *blockSize, blockingFactors)\n",
    "\n",
    "                lc1, basic1, meas1 = meas_db_amd.getEntry(r, blockSize, blockingFactors, fieldSize, DeviceMI210())        \n",
    "                lc2, basic2, meas2 = meas_db_nv.getEntry(r, blockSize, blockingFactors, fieldSize, DeviceAmpereA100_80GB())          \n",
    "\n",
    "                if meas1 is not None:\n",
    "                    print(meas1)\n",
    "                    mi210Values[key] = meas1\n",
    "                    \n",
    "                    \n",
    "                if meas2 is not None:        \n",
    "                    a100Values[key] = meas2\n",
    "                    print(meas2)\n",
    "\n",
    "                print()"
   ]
  },
  {
   "cell_type": "code",
   "execution_count": null,
   "metadata": {},
   "outputs": [],
   "source": [
    "volumeScatterPlot([(k[1:4], mi210Values[k].memLoad + mi210Values[k].memStore, a100Values[k].memLoad +  a100Values[k].memStore, k[4]) for k in mi210Values], \"Memory Volumes MI210 vs A100 r\" + str(r) )\n",
    "volumeScatterPlot([(k[1:4], mi210Values[k].L2Load + mi210Values[k].L2Store, a100Values[k].L2Load_tex + a100Values[k].L2Store, k[4]) for k in mi210Values], \"L2 Volumes MI210 vs A100 r\" + str(r) )\n",
    "volumeScatterPlot([(k[1:4], mi210Values[k].L1Wavefronts_TA, a100Values[k].L1Wavefronts, k[4]) for k in mi210Values], \"L1 wavefronts MI210 vs A100 r\" + str(r) )\n",
    "volumeScatterPlot([(k[1:4], mi210Values[k].lups, a100Values[k].lups, k[4]) for k in mi210Values], \"perf MI210 vs A100 r\" + str(r) )"
   ]
  },
  {
   "cell_type": "code",
   "execution_count": null,
   "metadata": {},
   "outputs": [],
   "source": []
  },
  {
   "cell_type": "code",
   "execution_count": null,
   "metadata": {},
   "outputs": [],
   "source": []
  }
 ],
 "metadata": {
  "kernelspec": {
   "display_name": "Python 3",
   "language": "python",
   "name": "python3"
  },
  "language_info": {
   "codemirror_mode": {
    "name": "ipython",
    "version": 3
   },
   "file_extension": ".py",
   "mimetype": "text/x-python",
   "name": "python",
   "nbconvert_exporter": "python",
   "pygments_lexer": "ipython3",
   "version": "3.9.1"
  }
 },
 "nbformat": 4,
 "nbformat_minor": 4
}
