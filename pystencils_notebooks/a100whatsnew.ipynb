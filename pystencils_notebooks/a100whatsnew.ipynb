{
 "cells": [
  {
   "cell_type": "markdown",
   "id": "lightweight-norfolk",
   "metadata": {},
   "source": [
    "# Resisting Change: The Relationship between Volta and Ampere\n",
    "\n",
    "\n",
    "<img src=\"https://imgs.xkcd.com/comics/data_trap.png\"\n",
    "     alt=\"It is important to make sure your analysis destroys as much data as it produces\" />\n",
    "It is important to make sure your analysis destroys as much data as it produces"
   ]
  },
  {
   "cell_type": "code",
   "execution_count": null,
   "id": "adolescent-evidence",
   "metadata": {},
   "outputs": [],
   "source": [
    "import sys \n",
    "sys.path.append('../pystencils')\n",
    "sys.path.append('../genpredict')\n",
    "\n",
    "from predict_metrics import *\n",
    "from meas_db import MeasDB\n",
    "\n",
    "meas_db = MeasDB(\"3dstencils.db\")\n",
    "\n",
    "from measured_metrics import MeasuredMetrics, ResultComparer\n",
    "from plot_utils import *\n"
   ]
  },
  {
   "cell_type": "code",
   "execution_count": null,
   "id": "formed-external",
   "metadata": {},
   "outputs": [],
   "source": [
    "predValuesV100 = dict()\n",
    "measValuesV100 = dict()\n",
    "\n",
    "device = DeviceVolta()\n",
    "print(device.name)\n",
    "\n",
    "def nextBlockSize():\n",
    "    for xblock in [4, 8, 16, 32, 64, 128, 256, 512]:\n",
    "        for yblock in [1, 2, 4, 8, 16, 32, 64, 128, 256, 512]:\n",
    "            for zblock in [1, 2, 4, 8, 16, 32, 64]:\n",
    "                if xblock*yblock*zblock not in [512, 1024]:\n",
    "                    continue\n",
    "                yield (xblock, yblock, zblock)    \n",
    "\n",
    "\n",
    "r = 4\n",
    "\n",
    "for blockingFactors in [(1,1,1)]:\n",
    "    for block in nextBlockSize():\n",
    "        \n",
    "        key = (r, *block, blockingFactors)\n",
    "\n",
    "        lc, basic, meas = meas_db.getEntry(r, block, blockingFactors, device)\n",
    "       \n",
    "        if basic is None or meas is None:\n",
    "            continue\n",
    "            \n",
    "        metrics = DerivedMetrics(lc, basic, device, meas)\n",
    "\n",
    "        measValuesV100[key] = meas\n",
    "        predValuesV100[key] = metrics\n",
    "\n",
    "        print(str(lc), end=\"\")\n",
    "        print(str(basic), end=\"--\\n\")\n",
    "        rc = ResultComparer(meas, metrics)\n",
    "        print(str(rc))              \n",
    "\n",
    "        print()\n",
    " "
   ]
  },
  {
   "cell_type": "code",
   "execution_count": null,
   "id": "circular-mystery",
   "metadata": {},
   "outputs": [],
   "source": [
    "volumeScatterPlot([(k[1:4], measValuesV100[k].memLoad, predValuesV100[k].memLoadV1, k[4]) for k in measValuesV100], \"V100 Memory Load Volumes V1\")\n",
    "volumeScatterPlot([(k[1:4], measValuesV100[k].memLoad, predValuesV100[k].memLoadV3, k[4], predValuesV100[k].memLoadV1) for k in measValuesV100], \"V100 Memory Load Volumes V4\")"
   ]
  },
  {
   "cell_type": "markdown",
   "id": "infectious-whale",
   "metadata": {},
   "source": [
    "Load Volumes are well predicted. The Purple thread block sizes require modeling the interaction with previous waves, which the second graph shows"
   ]
  },
  {
   "cell_type": "code",
   "execution_count": null,
   "id": "under-capacity",
   "metadata": {},
   "outputs": [],
   "source": [
    "volumeScatterPlot([(k[1:4], measValuesV100[k].L2Load, predValuesV100[k].L2LoadV1, k[4]) for k in measValuesV100], \"V100 Stencil L2 Load Volumes V1\")\n",
    "volumeScatterPlot([(k[1:4], measValuesV100[k].L2Load, predValuesV100[k].L2LoadV2, k[4], predValuesV100[k].L2LoadV1) for k in measValuesV100], \"V100 Stencil L2 Load Volumes V2\")"
   ]
  },
  {
   "cell_type": "markdown",
   "id": "sonic-ladder",
   "metadata": {},
   "source": [
    "The L2 Volumes are similarly well predicted. Capacity misses cause slight underprediction. The capacity prediction in the second graph is slightly overpredicted."
   ]
  },
  {
   "cell_type": "code",
   "execution_count": null,
   "id": "interested-harris",
   "metadata": {},
   "outputs": [],
   "source": [
    "volumeScatterPlot([(k[1:4], measValuesV100[k].L1Wavefronts*32, predValuesV100[k].L1Cycles, k[4]) for k in measValuesV100], \"V100 L1 Cycles\")"
   ]
  },
  {
   "cell_type": "markdown",
   "id": "wrapped-command",
   "metadata": {},
   "source": [
    "The L1 cycle time to fulfill a warps memory requests are consistent, but underpredicted. "
   ]
  },
  {
   "cell_type": "code",
   "execution_count": null,
   "id": "minimal-ratio",
   "metadata": {},
   "outputs": [],
   "source": [
    "categories = [\"L1\", \"L2\", \"RAM\"]\n",
    "\n",
    "for r in range(0,5):\n",
    "    \n",
    "    keys = [k for k in measValuesV100 if k[0] == r]\n",
    "    if len(keys) == 0: \n",
    "        continue\n",
    "        \n",
    "    volumeScatterPlot([(k[1:4], measValuesV100[k].lups, predValuesV100[k].perfV3, categories[predValuesV100[k].limV3], predValuesV100[k].perfV2) for k in keys], \"V100 Predicted Roofline range \" + str(r) + \" V3\")\n",
    "    volumeScatterPlot([(k[1:4], measValuesV100[k].lups, predValuesV100[k].perfPheno, categories[predValuesV100[k].limPheno], predValuesV100[k].perfV4) for k in keys], \"V100 Pheno Roofline range \" + str(r) + \" Pheno\" )"
   ]
  },
  {
   "cell_type": "markdown",
   "id": "color-addiction",
   "metadata": {},
   "source": [
    "The performance model shows a consistent ranking of data, though with general overprediction. The phenomenological roofline model performs very similar. Deficiencies are not in the volumes, but in the performance model. The best performing group of threads is well identified, see the following box:"
   ]
  },
  {
   "cell_type": "code",
   "execution_count": null,
   "id": "broad-deficit",
   "metadata": {},
   "outputs": [],
   "source": [
    "print(\"measured Best\")\n",
    "top = [(m, measValuesV100[m].lups) for m in measValuesV100]\n",
    "top.sort(key = lambda x : x[1])\n",
    "for t in top[:]:\n",
    "    print(\"{: >15s}: {:.2f}\".format(str(t[0][1:4]), t[1]  ))\n",
    "\n",
    "print()\n",
    "\n",
    "print(\"predicted best\")\n",
    "top = [(m, predValuesV100[m].perfV4) for m in predValuesV100]\n",
    "top.sort(key = lambda x : x[1])\n",
    "for t in top[:]:\n",
    "    print(\"{: >15s}: {:.2f}\".format(str(t[0][1:4]), t[1]  ))\n"
   ]
  },
  {
   "cell_type": "markdown",
   "id": "collaborative-quilt",
   "metadata": {},
   "source": [
    "# A100: High Level Differences\n",
    "\n",
    "|  |  V100   | A100  |  |\n",
    "|--|---------|---------|---|\n",
    "|SMs        | 80 SMs  | 108 SMs | +35% | \n",
    "| clocks    | 1.38 GHz | 1.41 GHz | + 2% |\n",
    "| L1 cache  | 128 kB   | 192 kB  | +50% |\n",
    "| L2 cache  | 6 MB     | 40 MB  | + 667% |\n",
    "| DRAM (scale)   |  800 GB/s | 1400 GB/s | +75 % | \n",
    "| L2 BW    | 2500 GB/s | 4500 GB/s | + 80% |\n",
    "\n"
   ]
  },
  {
   "cell_type": "markdown",
   "id": "subject-vacation",
   "metadata": {},
   "source": [
    "## cache bandwidths (read only)\n",
    "<img src=\"cache1.svg\"/>\n",
    "\n",
    "Both the L1 and the L2 cache are larger. The usable cache capacity is not the full 40MB, but rather 20MB due to the split cache.\n",
    "\n",
    "## pointer chase latency\n",
    "<img src=\"cache-latency.svg\"/>\n",
    "\n",
    "There is a distinct second plateau, due to hits in the far cache partition"
   ]
  },
  {
   "cell_type": "code",
   "execution_count": null,
   "id": "recognized-geology",
   "metadata": {},
   "outputs": [],
   "source": [
    "predValuesA100 = dict()\n",
    "measValuesA100 = dict()\n",
    "\n",
    "device = DeviceAmpere()\n",
    "print(device.name)\n",
    "\n",
    "def nextBlockSize():\n",
    "    for xblock in [4, 8, 16, 32, 64, 128, 256, 512]:\n",
    "        for yblock in [1, 2, 4, 8, 16, 32, 64, 128, 256, 512]:\n",
    "            for zblock in [1, 2, 4, 8, 16, 32, 64]:\n",
    "                if xblock*yblock*zblock not in [512, 1024]:\n",
    "                    continue\n",
    "                yield (xblock, yblock, zblock)    \n",
    "\n",
    "\n",
    "r = 4\n",
    "\n",
    "for blockingFactors in [(1,1,1)]:\n",
    "    for block in nextBlockSize():\n",
    "        \n",
    "        key = (r, *block, blockingFactors)\n",
    "\n",
    "        lc, basic, meas = meas_db.getEntry(r, block, blockingFactors, device)\n",
    "       \n",
    "        if basic is None or meas is None:\n",
    "            continue\n",
    "            \n",
    "        metrics = DerivedMetrics(lc, basic, device, meas)\n",
    "\n",
    "        measValuesA100[key] = meas\n",
    "        predValuesA100[key] = metrics\n",
    "\n",
    "        print(str(lc), end=\"\")\n",
    "        print(str(basic), end=\"--\\n\")\n",
    "        rc = ResultComparer(meas, metrics)\n",
    "        print(str(rc))              \n",
    "\n",
    "        print()\n"
   ]
  },
  {
   "cell_type": "code",
   "execution_count": null,
   "id": "micro-seventh",
   "metadata": {},
   "outputs": [],
   "source": [
    "volumeScatterPlot([(k[1:4], measValuesA100[k].memLoad, predValuesA100[k].memLoadV3, k[4], predValuesA100[k].memLoadV1) for k in measValuesA100], \"Memory Load Volumes V4\")"
   ]
  },
  {
   "cell_type": "markdown",
   "id": "essential-school",
   "metadata": {},
   "source": [
    "There is a group of thread block sizes, mostly shallow sizes with small z extent, that are very underpredicted. This is due to the large L2 cache, which allows for layer condition like effects. THe V100 vs A100 graph shows exactly these thread block sizes to have lower balances than on V100."
   ]
  },
  {
   "cell_type": "code",
   "execution_count": null,
   "id": "collectible-stevens",
   "metadata": {},
   "outputs": [],
   "source": [
    "volumeScatterPlot([(k[1:4], measValuesA100[k].memLoad, measValuesV100[k].memLoad, k[4]) for k in measValuesA100], \"Memory Load Volumes V1 V100 vs A100\")"
   ]
  },
  {
   "cell_type": "code",
   "execution_count": null,
   "id": "administrative-tulsa",
   "metadata": {},
   "outputs": [],
   "source": [
    "volumeScatterPlot([(k[1:4], measValuesA100[k].L2Load, predValuesA100[k].L2LoadV1, k[4]) for k in measValuesA100], \"A100 Stencil L2 Load Volumes V1\")\n",
    "volumeScatterPlot([(k[1:4], measValuesA100[k].L2Load_tex, predValuesA100[k].L2LoadV1, k[4]) for k in measValuesA100], \"A100 Stencil L2 Load Volumes V1\")"
   ]
  },
  {
   "cell_type": "markdown",
   "id": "graphic-musical",
   "metadata": {},
   "source": [
    "The L2 cache data volume is underpredicted by an almost consistent factor. Using a different performance counter, that does not include the traffic between L2 cache partitions, makes the prediction very accurate."
   ]
  },
  {
   "cell_type": "code",
   "execution_count": null,
   "id": "portuguese-replica",
   "metadata": {},
   "outputs": [],
   "source": [
    "volumeScatterPlot([(k[1:4], measValuesA100[k].L2Load_tex, measValuesV100[k].L2Load_tex, k[4]) for k in measValuesA100], \"L2 Load Volumes V100 vs A100\")"
   ]
  },
  {
   "cell_type": "markdown",
   "id": "nonprofit-verse",
   "metadata": {},
   "source": [
    "V100 smaller L1 cache makes for slightly higher L2 cache volumes. "
   ]
  },
  {
   "cell_type": "markdown",
   "id": "round-turtle",
   "metadata": {},
   "source": [
    "## Gapped Stream\n",
    "<img src=\"cache-gapped.svg\"/>"
   ]
  },
  {
   "cell_type": "code",
   "execution_count": null,
   "id": "civilian-player",
   "metadata": {},
   "outputs": [],
   "source": [
    "categories = [\"L1\", \"L2\", \"RAM\"]\n",
    "\n",
    "for r in range(0,5):\n",
    "    \n",
    "    keys = [k for k in measValuesA100 if k[0] == r]\n",
    "    if len(keys) == 0: \n",
    "        continue\n",
    "        \n",
    "    volumeScatterPlot([(k[1:4], measValuesA100[k].lups, predValuesA100[k].perfV3, categories[predValuesA100[k].limV3]) for k in keys], \"A100 Predicted Roofline range \" + str(r) + \" V3\")\n",
    "    volumeScatterPlot([(k[1:4], measValuesA100[k].lups, predValuesA100[k].perfPheno, categories[predValuesA100[k].limPheno], predValuesA100[k].perfV4) for k in keys], \"A100 Pheno Roofline range \" + str(r) + \" Pheno\" )"
   ]
  },
  {
   "cell_type": "code",
   "execution_count": null,
   "id": "integrated-dividend",
   "metadata": {},
   "outputs": [],
   "source": [
    "    scatterPlot([(k[1:4], measValuesA100[k].lups, measValuesV100[k].lups, categories[predValuesA100[k].limPheno]) for k in keys], \"Measured Performance A100 vs V100\" )"
   ]
  },
  {
   "cell_type": "code",
   "execution_count": null,
   "id": "enabling-element",
   "metadata": {},
   "outputs": [],
   "source": [
    "print(\"measured Best\")\n",
    "top = [(m, measValuesA100[m].lups) for m in measValuesA100]\n",
    "top.sort(key = lambda x : x[1])\n",
    "for t in top[-10:]:\n",
    "    print(\"{: >15s}: {:.2f}\".format(str(t[0][1:4]), t[1]  ))\n",
    "\n",
    "print()\n",
    "\n",
    "print(\"predicted best\")\n",
    "top = [(m, predValuesA100[m].perfPheno) for m in predValuesA100]\n",
    "top.sort(key = lambda x : x[1])\n",
    "for t in top[-10:]:\n",
    "    print(\"{: >15s}: {:.2f}\".format(str(t[0][1:4]), t[1]  ))\n"
   ]
  },
  {
   "cell_type": "code",
   "execution_count": null,
   "id": "intimate-reaction",
   "metadata": {},
   "outputs": [],
   "source": []
  }
 ],
 "metadata": {
  "kernelspec": {
   "display_name": "Python 3",
   "language": "python",
   "name": "python3"
  },
  "language_info": {
   "codemirror_mode": {
    "name": "ipython",
    "version": 3
   },
   "file_extension": ".py",
   "mimetype": "text/x-python",
   "name": "python",
   "nbconvert_exporter": "python",
   "pygments_lexer": "ipython3",
   "version": "3.9.1"
  }
 },
 "nbformat": 4,
 "nbformat_minor": 5
}
