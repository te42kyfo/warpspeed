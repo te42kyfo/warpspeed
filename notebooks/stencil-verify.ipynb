{
 "cells": [
  {
   "cell_type": "markdown",
   "metadata": {},
   "source": [
    "# stencilgen pred verification"
   ]
  },
  {
   "cell_type": "code",
   "execution_count": null,
   "metadata": {},
   "outputs": [],
   "source": [
    "import sys\n",
    "sys.path.append('../warpspeed')\n",
    "sys.path.append('../applications')\n",
    "sys.path.append('../measutils')\n",
    "\n",
    "import pycuda.autoinit\n",
    "import pycuda.driver as drv\n",
    "import numpy as np\n",
    "\n",
    "import matplotlib.pyplot as plt\n",
    "from IPython.display import set_matplotlib_formats\n",
    "%matplotlib inline\n",
    "set_matplotlib_formats('svg')\n",
    "\n",
    "import measure_metric.measureMetric as measureMetric\n",
    "\n",
    "from stencilgen.stencil import *\n",
    "from tsmgen.kernel import *\n",
    "import stencilgen.bench as stencilbench\n",
    "import tsmgen.benchmark as tsmbench\n",
    "from predict import *\n",
    "\n",
    "#% matplotlib notebook"
   ]
  },
  {
   "cell_type": "code",
   "execution_count": null,
   "metadata": {},
   "outputs": [],
   "source": [
    "%load_ext autoreload\n",
    "%autoreload 1\n",
    "%aimport stencilgen.stencil\n",
    "%aimport stencilgen.bench\n",
    "%aimport predict\n",
    "%aimport griditeration"
   ]
  },
  {
   "cell_type": "code",
   "execution_count": null,
   "metadata": {},
   "outputs": [],
   "source": [
    "storeVolumes = []\n",
    "loadVolumes = []\n",
    "for r in range(0, 10):\n",
    "    kernel = Kernel2DBoxStencil(stencil_range=r, l1only=False)\n",
    "    \n",
    "\n",
    "    block = (32, 8, 1)\n",
    "    grid = kernel.getGrid(1, block, 15000, 15000)\n",
    "    concurrentGrid = getConcurrentGrid(getBlocksPerSM(block, 32)*80, grid)\n",
    "    truncatedConcurrentGrid = tuple(min(4, c) for c in concurrentGrid)\n",
    "\n",
    "    print(concurrentGrid)\n",
    "    print(truncatedConcurrentGrid)\n",
    "    \n",
    "    measureMetric.measureBandwidthStart()    \n",
    "    stencilbench.runKernel(kernel, kernel.getGrid(1, block, 15000, 15000), block)\n",
    "    result = measureMetric.measureMetricStop()\n",
    "    \n",
    "    storeVolumes.append(result[1])\n",
    "    loadVolumes.append(result[0])\n",
    "    \n",
    "    L2LoadBlockVolume = getL2LoadBlockVolume(block, truncatedConcurrentGrid, kernel.genLoads(), 32)\n",
    "    L2StoreBlockVolume = getL2StoreBlockVolume(block, truncatedConcurrentGrid, kernel.genStores())\n",
    "\n",
    "    memLoadBlockVolume = getMemLoadBlockVolume(block, concurrentGrid, kernel.genLoads())\n",
    "    memStoreBlockVolume = getMemStoreBlockVolume(block, concurrentGrid, kernel.genStores())\n",
    "\n",
    "    L1Cycles = getL1Cycles(block, truncatedConcurrentGrid, {**kernel.genLoads(), ** kernel.genStores()})\n",
    "    \n",
    "    print(\"mem load:  {:7.3f} {:7.3f}\".format(result[0] / 15000**2, memLoadBlockVolume / block[0] / block[1] / block[2]))\n",
    "    print(\"mem store: {:7.3f} {:7.3f}\".format(result[1] / 15000**2, memStoreBlockVolume / block[0] / block[1] / block[2]))\n",
    "    print(\"L2 load:   {:7.3f} {:7.3f}\".format(result[2]*32 / 15000**2, L2LoadBlockVolume / block[0] / block[1] / block[2]))\n",
    "    print(\"L2 store:  {:7.3f} {:7.3f}\".format(result[3]*32 / 15000**2, L2StoreBlockVolume / block[0] / block[1] / block[2]))\n",
    "    print(\"L1 cycles: {:7.3f} \".format(L1Cycles))\n",
    "    print()"
   ]
  },
  {
   "cell_type": "code",
   "execution_count": null,
   "metadata": {},
   "outputs": [],
   "source": [
    "def compareSeries( xblocks, yblocks, ranges, version=2, overlap=randomOverlap, **stencilArgs):\n",
    "    best_values = []\n",
    "\n",
    "    measuredValues = []\n",
    "    predictedValues = []\n",
    "   \n",
    "    xtickCounter = 0\n",
    "    xticks = []\n",
    "    xtickLabels = []\n",
    "\n",
    "    \n",
    "    for r in ranges:\n",
    "        kernel = Kernel2DBoxStencil(stencil_range=r, **stencilArgs)\n",
    "    \n",
    "        for xblock in xblocks:\n",
    "            \n",
    "            newXtick = xtickCounter\n",
    "            for yblock in yblocks:\n",
    "                if xblock*yblock > 1024 or xblock*yblock < 32:\n",
    "                    continue\n",
    "\n",
    "                block = (xblock, yblock, 1)\n",
    "\n",
    "                print(\"r={}, block={}x{}\".format(r, xblock, yblock))\n",
    "                if newXtick == xtickCounter:\n",
    "                    newLabel = \"r={};{}x{}\".format(r, xblock, yblock)\n",
    "                measuredValues.append( stencilbench.benchKernel(kernel, 11, (xblock, yblock, 1))[2])\n",
    "                if version == 1:\n",
    "                    predictedValues.append(predictPerformanceV1(kernel, block, (16,16,1), 32) )\n",
    "                else:\n",
    "                    predictedValues.append(predictPerformance(kernel, block, (32,16,1), overlap=overlap) * kernel.flops)\n",
    "                print(\"Meas / Pred (GFlop/s): {:.0f} / {:.0f}\".format( measuredValues[-1], predictedValues[-1]))\n",
    "                print()\n",
    "                xtickCounter += 1\n",
    "                \n",
    "            if newXtick != xtickCounter:\n",
    "                xticks.append(newXtick)\n",
    "                xtickLabels.append(newLabel)        \n",
    "\n",
    "        print()\n",
    "    return measuredValues, predictedValues, xticks, xtickLabels\n",
    "\n",
    "def plotComparison(measuredValues, predictedValues, xticks, xtickLabels):\n",
    "   \n",
    "    fig, ax = plt.subplots()\n",
    "    fig.set_figwidth(9)\n",
    "    fig.set_figheight(4.5)\n",
    "    fig.set_dpi(200)\n",
    "\n",
    "    ax.plot(predictedValues, \"-+\", label=\"predicted\",  color=\"#CCE699\", linewidth=3, markersize=9, markeredgewidth=2, markeredgecolor=\"#B5CC88\")\n",
    "    ax.plot(measuredValues, \"-x\", label=\"measured\", color=\"#99B3E6\", linewidth=3, markersize=7, markeredgewidth=2, markeredgecolor=\"#889FCC\")\n",
    "\n",
    "    #ax.set_yscale(\"log\")\n",
    "\n",
    "    ax.set_xticks(xticks)\n",
    "    ax.set_xticklabels( xtickLabels, rotation=60, rotation_mode=\"anchor\", horizontalalignment=\"right\")\n",
    "    ax.set_ylim(0, ax.get_ylim()[1])\n",
    "    ax.set_xlim(-1, len(predictedValues))\n",
    "\n",
    "    #fig.tight_layout()\n",
    "    ax.legend()\n",
    "    ax.grid()\n",
    "    plt.show()\n"
   ]
  },
  {
   "cell_type": "code",
   "execution_count": null,
   "metadata": {},
   "outputs": [],
   "source": [
    "l1data = compareSeries([1, 2, 4, 8, 16, 32, 64, 128], [8, 16, 32, 64, 128, 256, 512], [1], l1only=True)"
   ]
  },
  {
   "cell_type": "code",
   "execution_count": null,
   "metadata": {},
   "outputs": [],
   "source": [
    "plotComparison(*l1data)"
   ]
  },
  {
   "cell_type": "code",
   "execution_count": null,
   "metadata": {},
   "outputs": [],
   "source": [
    "memdata = compareSeries([1, 2, 4, 8, 16, 32, 64, 128, 256, 512, 1024], [1, 2, 4, 8, 16, 32, 64, 128, 256], [1, 2, 3])"
   ]
  },
  {
   "cell_type": "code",
   "execution_count": null,
   "metadata": {},
   "outputs": [],
   "source": [
    "plotComparison(*memdata)"
   ]
  },
  {
   "cell_type": "code",
   "execution_count": null,
   "metadata": {},
   "outputs": [],
   "source": [
    "maxOverlapData = compareSeries([1, 2, 4, 8, 16, 32, 64, 128, 256, 512, 1024], [1, 2, 4, 8, 16, 32, 64, 128, 256], [1], overlap=maxOverlap)"
   ]
  },
  {
   "cell_type": "code",
   "execution_count": null,
   "metadata": {},
   "outputs": [],
   "source": [
    "randomOverlapData = compareSeries([1, 2, 4, 8, 16, 32, 64, 128, 256, 512, 1024], [1, 2, 4, 8, 16, 32, 64, 128, 256], [1], overlap=randomOverlap)"
   ]
  },
  {
   "cell_type": "code",
   "execution_count": null,
   "metadata": {},
   "outputs": [],
   "source": [
    "v1Data = randomOverlapData#compareSeries([1, 2, 4, 8, 16, 32, 64, 128, 256, 512, 1024], [1, 2, 4, 8, 16, 32, 64, 128, 256], [1], version=1)"
   ]
  },
  {
   "cell_type": "code",
   "execution_count": null,
   "metadata": {},
   "outputs": [],
   "source": [
    "fig, ax = plt.subplots()\n",
    "fig.set_figwidth(9)\n",
    "fig.set_figheight(4.5)\n",
    "fig.set_dpi(200)\n",
    "\n",
    "ax.plot(randomOverlapData[1], \"-o\", label=\"randomOverlap\",  color=\"#CCE699\", linewidth=1, markersize=5, markeredgewidth=1, markeredgecolor=\"#B5CC88\")\n",
    "ax.plot(maxOverlapData[1], \"-+\", label=\"maxOverlap\",  color=\"#CC06AA\", linewidth=1, markersize=5, markeredgewidth=1, markeredgecolor=\"#B50CAA\")\n",
    "ax.plot(v1Data[1], \"-x\", label=\"version 1\",  color=\"#22E6AA\", linewidth=1, markersize=5, markeredgewidth=1, markeredgecolor=\"#22CCAA\")\n",
    "\n",
    "ax.plot(randomOverlapData[0], \"-x\", label=\"measured\", color=\"#99B3E6\", linewidth=1, markersize=4, markeredgewidth=1, markeredgecolor=\"#889FCC\")\n",
    "\n",
    "#ax.set_yscale(\"log\")\n",
    "\n",
    "ax.set_xticks(randomOverlapData[2])\n",
    "ax.set_xticklabels( randomOverlapData[3], rotation=60, rotation_mode=\"anchor\", horizontalalignment=\"right\")\n",
    "ax.set_ylim(0, ax.get_ylim()[1])\n",
    "ax.set_xlim(-1, len(randomOverlapData[0]))\n",
    "\n",
    "fig.tight_layout()\n",
    "ax.legend()\n",
    "ax.grid()\n",
    "plt.show()"
   ]
  },
  {
   "cell_type": "code",
   "execution_count": null,
   "metadata": {},
   "outputs": [],
   "source": []
  }
 ],
 "metadata": {
  "kernelspec": {
   "display_name": "Python 3",
   "language": "python",
   "name": "python3"
  },
  "language_info": {
   "codemirror_mode": {
    "name": "ipython",
    "version": 3
   },
   "file_extension": ".py",
   "mimetype": "text/x-python",
   "name": "python",
   "nbconvert_exporter": "python",
   "pygments_lexer": "ipython3",
   "version": "3.9.1"
  }
 },
 "nbformat": 4,
 "nbformat_minor": 2
}
