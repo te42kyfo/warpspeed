{
 "cells": [
  {
   "cell_type": "code",
   "execution_count": null,
   "id": "public-irrigation",
   "metadata": {},
   "outputs": [],
   "source": [
    "from IPython.display import display, HTML\n",
    "display(HTML(\"<style>.container { width:90% !important; }</style>\"))\n",
    "\n",
    "\n",
    "import sys \n",
    "sys.path.append('../warpspeed/')\n",
    "\n",
    "from predict_metrics import *\n",
    "import sympy as sp\n",
    "from warpspeedkernel import *\n",
    "import matplotlib.pyplot as plt"
   ]
  },
  {
   "cell_type": "code",
   "execution_count": null,
   "id": "endless-there",
   "metadata": {},
   "outputs": [],
   "source": [
    "blockSize = (512, 1, 1)\n",
    "blockingFactors = (1,1,1)\n",
    "\n",
    "device = DeviceAmpere()\n",
    "preds = {}\n"
   ]
  },
  {
   "cell_type": "code",
   "execution_count": null,
   "id": "legitimate-silver",
   "metadata": {},
   "outputs": [],
   "source": [
    "xySizes = [8, 16] + [i * 32 for i in range(1, 16)]\n",
    "\n",
    "\n",
    "for vectorCount in [1, 8]:\n",
    "    if not vectorCount in preds:\n",
    "        preds[vectorCount] = {}\n",
    "    for xy in xySizes:\n",
    "        print(\"NB=\" + str(vectorCount))\n",
    "        domain = (xy, xy, 512 * 256 * 256 // (xy * xy))\n",
    "        print(domain)\n",
    "        if xy in preds[vectorCount]:\n",
    "            continue\n",
    "        \n",
    "        loadFields = []\n",
    "        storeFields = []\n",
    "\n",
    "        xloads = []\n",
    "        for z in {-1, 0, 1}:\n",
    "            for y in {-1, 0, 1}:\n",
    "                for x in {-1, 0, 1}:\n",
    "                    xloads.append(\n",
    "                        (\"tidx + \" + str(x), \"tidy + \" + str(y), \"tidz + \" + str(z))\n",
    "                    )\n",
    "\n",
    "        loadFields.append(Field(\"X\", xloads, 8, [d + 2 for d in domain], 0, multiplicity=vectorCount))\n",
    "        storeFields.append( Field(\"Y\", [(\"tidx\", \"tidy\", \"tidz\")], 8, [d + 2 for d in domain], 0, multiplicity=vectorCount))\n",
    "\n",
    "        matrixLoads = []\n",
    "        for row in range(0, 27):\n",
    "            matrixLoads.append(\n",
    "                (\n",
    "                    \"(tidx + tidy * {0} + tidz * {0} * {1}) + {3} * {0} * {1} * {2}\".format(\n",
    "                        domain[0], domain[1], domain[2], row\n",
    "                    ),\n",
    "                    \"0\",\n",
    "                    \"0\",\n",
    "                )\n",
    "            )\n",
    "\n",
    "        loadFields.append(\n",
    "            Field(\"mat\", matrixLoads, 8, (domain[0], domain[1], domain[2] * 27), 0)\n",
    "        )\n",
    "        loadFields.append(\n",
    "            Field(\"idx\", matrixLoads, 4, (domain[0], domain[1], domain[2] * 27), 0)\n",
    "        )\n",
    "\n",
    "\n",
    "        kernel = WarpspeedKernel(loadFields, storeFields, 64, flops=27 * 2 *  vectorCount)\n",
    "\n",
    "        lc = LaunchConfig.compute(kernel, blockSize, domain, blockingFactors, device)\n",
    "        basic = BasicMetrics.compute(lc, device, kernel)\n",
    "        pred = DerivedMetrics(lc, basic, device)\n",
    "\n",
    "\n",
    "        \n",
    "        print(basic)\n",
    "        print(display(HTML(pred.html())))\n",
    "\n",
    "        preds[vectorCount][xy] = pred\n",
    "\n"
   ]
  },
  {
   "cell_type": "code",
   "execution_count": null,
   "id": "infinite-prototype",
   "metadata": {},
   "outputs": [],
   "source": [
    "fig,ax = plt.subplots(figsize=(8,4), dpi=200)\n",
    "\n",
    "for vectorCount in preds.keys():\n",
    "    ax.plot([xy*xy for xy in preds[vectorCount].keys()],  [preds[vectorCount][key].perfV3 for key in preds[vectorCount].keys()], \".-\")\n",
    "    \n",
    "ax.set_xscale(\"log\")\n",
    "ax.set_ylim((0, ax.get_ylim()[1]))\n",
    "\n",
    "plt.show()"
   ]
  },
  {
   "cell_type": "code",
   "execution_count": null,
   "id": "efficient-payday",
   "metadata": {},
   "outputs": [],
   "source": []
  }
 ],
 "metadata": {
  "kernelspec": {
   "display_name": "Python 3 (ipykernel)",
   "language": "python",
   "name": "python3"
  },
  "language_info": {
   "codemirror_mode": {
    "name": "ipython",
    "version": 3
   },
   "file_extension": ".py",
   "mimetype": "text/x-python",
   "name": "python",
   "nbconvert_exporter": "python",
   "pygments_lexer": "ipython3",
   "version": "3.10.10"
  }
 },
 "nbformat": 4,
 "nbformat_minor": 5
}
