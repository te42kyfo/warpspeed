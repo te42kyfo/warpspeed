{
 "cells": [
  {
   "cell_type": "markdown",
   "metadata": {},
   "source": [
    "# Stencilgen Volume Comparisons\n",
    "\n",
    "2D Box stencils with varying range"
   ]
  },
  {
   "cell_type": "code",
   "execution_count": null,
   "metadata": {},
   "outputs": [],
   "source": [
    "import sys\n",
    "sys.path.insert(0, '..')\n",
    "sys.path.insert(0, '../pystencils_notebooks/')\n",
    "sys.path.insert(0, '../measutils/')\n",
    "sys.path.insert(0, '../applications/')\n",
    "sys.path.insert(0, '../warpspeed/')\n",
    "\n",
    "import pycuda.autoinit\n",
    "import pycuda.driver as drv\n",
    "import numpy as np\n",
    "import matplotlib.pyplot as plt\n",
    "import matplotlib\n",
    "import measure_metric.measureMetric as measureMetric\n",
    "\n",
    "from stencilgen.stencil import *\n",
    "import stencilgen.bench as stencilbench\n",
    "from predict import *\n",
    "from volumes_isl import *\n",
    "from plot_utils import *\n",
    "\n",
    "#% matplotlib notebook"
   ]
  },
  {
   "cell_type": "code",
   "execution_count": null,
   "metadata": {},
   "outputs": [],
   "source": [
    "%load_ext autoreload\n",
    "%autoreload 1\n",
    "%aimport stencilgen.stencil\n",
    "%aimport stencilgen.bench\n",
    "%aimport predict\n",
    "%aimport volumes_isl"
   ]
  },
  {
   "cell_type": "code",
   "execution_count": null,
   "metadata": {},
   "outputs": [],
   "source": [
    "\n",
    "predMemLoadVolumes = dict()\n",
    "predMemLoadVolumesISL = dict()\n",
    "measMemLoadVolumes = dict()\n",
    "\n",
    "measMemStoreVolumes = dict()\n",
    "predMemStoreVolumes = dict()\n",
    "\n",
    "measL2LoadVolumes = dict()\n",
    "predL2LoadVolumes = dict()\n",
    "\n",
    "measL2StoreVolumes = dict()\n",
    "predL2StoreVolumes = dict()\n",
    "\n",
    "xticks = []\n",
    "xtickLabels = []\n",
    "xtickCounter = 0\n",
    "\n",
    "\n",
    "for r in range(0,4):\n",
    "    kernel = Kernel2DBoxStencil(stencil_range=r, l1only=False)\n",
    "\n",
    "    print()\n",
    "    print(\"r=\" + str(r))\n",
    "    print( \"                 mem     mem      L2      L2\")\n",
    "    print( \"                load   store    load   store       L1\")\n",
    "    print()\n",
    "    \n",
    "    for xblock in [1, 2, 4, 8, 16, 32, 64, 128, 256, 512, 1024]:\n",
    "        for yblock in [1, 2, 4, 8, 16, 32, 64, 128, 256, 512, 1024]:\n",
    "            if xblock * yblock > 1024 or xblock * yblock < 32:\n",
    "                continue\n",
    "            block = (xblock, yblock, 1)\n",
    "        \n",
    "            grid = kernel.getGrid(1, block, 15000, 15000)\n",
    "            concurrentGrid = getConcurrentGrid(getBlocksPerSM(block, 32)*80, grid)\n",
    "            truncatedConcurrentGrid = tuple(min(4, c) for c in concurrentGrid)\n",
    "            threadsPerBlock = block[0] * block[1] * block[2]\n",
    "    \n",
    "   \n",
    "            measureMetric.measureBandwidthStart()\n",
    "            stencilbench.runKernel(kernel, kernel.getGrid(1, block, 15000, 15000), block)\n",
    "            result = [r / stencilbench.h / stencilbench.w for r in measureMetric.measureMetricStop()]\n",
    "\n",
    "            L2LoadBlockVolume = getL2LoadBlockVolume(block, truncatedConcurrentGrid, kernel.genLoads())  / threadsPerBlock\n",
    "            L2StoreBlockVolume = getL2StoreBlockVolume(block, truncatedConcurrentGrid, kernel.genStores())  / threadsPerBlock\n",
    "\n",
    "            memLoadBlockVolume = getMemLoadBlockVolume(block, concurrentGrid, kernel.genLoads()) /  threadsPerBlock\n",
    "            memStoreBlockVolume = getMemStoreBlockVolume(block, concurrentGrid, kernel.genStores())  / threadsPerBlock\n",
    "\n",
    "            memLoadBlockVolumeISL = getMemLoadBlockVolumeISL(block, concurrentGrid, grid,  kernel.genLoadExprs(), kernel.getValidDomain(stencilbench.w, stencilbench.h)) /  threadsPerBlock\n",
    "\n",
    "            L1Cycles = getL1Cycles(block, truncatedConcurrentGrid, {**kernel.genLoads(), ** kernel.genStores()})\n",
    "            print(\"{:12}   {:5.2f}   {:5.2f}   {:5.2f}   {:5.2f}\".format(str(block), result[0], result[1], result[2]*32, result[3]*32))\n",
    "            print(\"        {:5.2f} / {:4.2f}   {:5.2f}   {:5.2f}   {:5.2f}   {:6.1f}\".format(memLoadBlockVolume, memLoadBlockVolumeISL, memStoreBlockVolume, L2LoadBlockVolume, L2StoreBlockVolume, L1Cycles))\n",
    "\n",
    "            print()\n",
    "\n",
    "            key = (r, *block)\n",
    "            \n",
    "            measMemLoadVolumes[key] = result[0]\n",
    "            predMemLoadVolumes[key] = memLoadBlockVolume\n",
    "            predMemLoadVolumesISL[key] = memLoadBlockVolumeISL\n",
    "            \n",
    "            measMemStoreVolumes[key] = result[1]\n",
    "            predMemStoreVolumes[key] = memStoreBlockVolume\n",
    "\n",
    "            measL2LoadVolumes[key] = result[2]*32\n",
    "            predL2LoadVolumes[key] = L2LoadBlockVolume\n",
    "\n",
    "            measL2StoreVolumes[key] = result[3]*32\n",
    "            predL2StoreVolumes[key] = L2StoreBlockVolume\n",
    "            \n",
    "            \n",
    "            newLabel = \"r={},{}x{}x{}\".format( r, block[0], block[1], block[2])\n",
    "            if xtickCounter % 5 == 0:\n",
    "                xticks.append(xtickCounter)\n",
    "                xtickLabels.append(newLabel)        \n",
    "            xtickCounter += 1"
   ]
  },
  {
   "cell_type": "code",
   "execution_count": null,
   "metadata": {},
   "outputs": [],
   "source": [
    "volumeScatterPlot(measMemLoadVolumes,  predMemLoadVolumes, \"Memory Load Volume\")"
   ]
  },
  {
   "cell_type": "code",
   "execution_count": null,
   "metadata": {},
   "outputs": [],
   "source": [
    "\n",
    "volumeScatterPlot(measMemLoadVolumes,  predMemLoadVolumesISL, \"Memory Load Volume (ISL)\")"
   ]
  },
  {
   "cell_type": "code",
   "execution_count": null,
   "metadata": {},
   "outputs": [],
   "source": [
    "volumeScatterPlot(measMemStoreVolumes, predMemStoreVolumes, \"Memory Store Volume\")"
   ]
  },
  {
   "cell_type": "code",
   "execution_count": null,
   "metadata": {},
   "outputs": [],
   "source": [
    "volumeScatterPlot(measL2LoadVolumes, predL2LoadVolumes, \"L2 load Volume\")\n"
   ]
  },
  {
   "cell_type": "code",
   "execution_count": null,
   "metadata": {},
   "outputs": [],
   "source": [
    "volumeScatterPlot(measL2StoreVolumes,predL2StoreVolumes, \"L2 store volume\")"
   ]
  },
  {
   "cell_type": "code",
   "execution_count": null,
   "metadata": {},
   "outputs": [],
   "source": []
  }
 ],
 "metadata": {
  "kernelspec": {
   "display_name": "Python 3",
   "language": "python",
   "name": "python3"
  },
  "language_info": {
   "codemirror_mode": {
    "name": "ipython",
    "version": 3
   },
   "file_extension": ".py",
   "mimetype": "text/x-python",
   "name": "python",
   "nbconvert_exporter": "python",
   "pygments_lexer": "ipython3",
   "version": "3.9.1"
  }
 },
 "nbformat": 4,
 "nbformat_minor": 4
}
